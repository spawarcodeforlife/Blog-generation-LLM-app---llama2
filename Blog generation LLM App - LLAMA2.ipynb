{
 "cells": [
  {
   "cell_type": "code",
   "execution_count": 1,
   "id": "5210997e",
   "metadata": {},
   "outputs": [
    {
     "data": {
      "text/plain": [
       "'/Users/surajpawar/Desktop/Langchain Gen AI Tutorial - 6 End to End Projects using OpenAI, Google Gemini Pro, LLAMA2'"
      ]
     },
     "execution_count": 1,
     "metadata": {},
     "output_type": "execute_result"
    }
   ],
   "source": [
    "pwd"
   ]
  },
  {
   "cell_type": "code",
   "execution_count": 2,
   "id": "cc186cda",
   "metadata": {},
   "outputs": [
    {
     "name": "stdout",
     "output_type": "stream",
     "text": [
      "\u001b[33mWARNING: Skipping /Applications/anaconda3/lib/python3.11/site-packages/scipy-1.11.3.dist-info due to invalid metadata entry 'name'\u001b[0m\u001b[33m\n",
      "\u001b[0mRequirement already satisfied: sentence-transformers in /Applications/anaconda3/lib/python3.11/site-packages (3.0.1)\n",
      "Requirement already satisfied: transformers<5.0.0,>=4.34.0 in /Applications/anaconda3/lib/python3.11/site-packages (from sentence-transformers) (4.41.2)\n",
      "Requirement already satisfied: tqdm in /Applications/anaconda3/lib/python3.11/site-packages (from sentence-transformers) (4.65.0)\n",
      "Requirement already satisfied: torch>=1.11.0 in /Applications/anaconda3/lib/python3.11/site-packages (from sentence-transformers) (2.2.2)\n",
      "Requirement already satisfied: numpy in /Applications/anaconda3/lib/python3.11/site-packages (from sentence-transformers) (1.24.4)\n",
      "Requirement already satisfied: scikit-learn in /Applications/anaconda3/lib/python3.11/site-packages (from sentence-transformers) (1.2.2)\n",
      "Requirement already satisfied: scipy in /Applications/anaconda3/lib/python3.11/site-packages (from sentence-transformers) (1.10.1)\n",
      "Requirement already satisfied: huggingface-hub>=0.15.1 in /Applications/anaconda3/lib/python3.11/site-packages (from sentence-transformers) (0.23.3)\n",
      "Requirement already satisfied: Pillow in /Applications/anaconda3/lib/python3.11/site-packages (from sentence-transformers) (10.0.1)\n",
      "Requirement already satisfied: filelock in /Applications/anaconda3/lib/python3.11/site-packages (from huggingface-hub>=0.15.1->sentence-transformers) (3.9.0)\n",
      "Requirement already satisfied: fsspec>=2023.5.0 in /Applications/anaconda3/lib/python3.11/site-packages (from huggingface-hub>=0.15.1->sentence-transformers) (2024.6.0)\n",
      "Requirement already satisfied: packaging>=20.9 in /Applications/anaconda3/lib/python3.11/site-packages (from huggingface-hub>=0.15.1->sentence-transformers) (23.2)\n",
      "Requirement already satisfied: pyyaml>=5.1 in /Applications/anaconda3/lib/python3.11/site-packages (from huggingface-hub>=0.15.1->sentence-transformers) (6.0)\n",
      "Requirement already satisfied: requests in /Applications/anaconda3/lib/python3.11/site-packages (from huggingface-hub>=0.15.1->sentence-transformers) (2.31.0)\n",
      "Requirement already satisfied: typing-extensions>=3.7.4.3 in /Applications/anaconda3/lib/python3.11/site-packages (from huggingface-hub>=0.15.1->sentence-transformers) (4.12.2)\n",
      "Requirement already satisfied: sympy in /Applications/anaconda3/lib/python3.11/site-packages (from torch>=1.11.0->sentence-transformers) (1.11.1)\n",
      "Requirement already satisfied: networkx in /Applications/anaconda3/lib/python3.11/site-packages (from torch>=1.11.0->sentence-transformers) (3.1)\n",
      "Requirement already satisfied: jinja2 in /Applications/anaconda3/lib/python3.11/site-packages (from torch>=1.11.0->sentence-transformers) (3.1.2)\n",
      "Requirement already satisfied: regex!=2019.12.17 in /Applications/anaconda3/lib/python3.11/site-packages (from transformers<5.0.0,>=4.34.0->sentence-transformers) (2023.10.3)\n",
      "Requirement already satisfied: tokenizers<0.20,>=0.19 in /Applications/anaconda3/lib/python3.11/site-packages (from transformers<5.0.0,>=4.34.0->sentence-transformers) (0.19.1)\n",
      "Requirement already satisfied: safetensors>=0.4.1 in /Applications/anaconda3/lib/python3.11/site-packages (from transformers<5.0.0,>=4.34.0->sentence-transformers) (0.4.3)\n",
      "Requirement already satisfied: joblib>=1.1.1 in /Applications/anaconda3/lib/python3.11/site-packages (from scikit-learn->sentence-transformers) (1.2.0)\n",
      "Requirement already satisfied: threadpoolctl>=2.0.0 in /Applications/anaconda3/lib/python3.11/site-packages (from scikit-learn->sentence-transformers) (2.2.0)\n",
      "Requirement already satisfied: MarkupSafe>=2.0 in /Applications/anaconda3/lib/python3.11/site-packages (from jinja2->torch>=1.11.0->sentence-transformers) (2.1.1)\n",
      "Requirement already satisfied: charset-normalizer<4,>=2 in /Applications/anaconda3/lib/python3.11/site-packages (from requests->huggingface-hub>=0.15.1->sentence-transformers) (2.0.4)\n",
      "Requirement already satisfied: idna<4,>=2.5 in /Applications/anaconda3/lib/python3.11/site-packages (from requests->huggingface-hub>=0.15.1->sentence-transformers) (3.4)\n",
      "Requirement already satisfied: urllib3<3,>=1.21.1 in /Applications/anaconda3/lib/python3.11/site-packages (from requests->huggingface-hub>=0.15.1->sentence-transformers) (1.26.16)\n",
      "Requirement already satisfied: certifi>=2017.4.17 in /Applications/anaconda3/lib/python3.11/site-packages (from requests->huggingface-hub>=0.15.1->sentence-transformers) (2023.7.22)\n",
      "Requirement already satisfied: mpmath>=0.19 in /Applications/anaconda3/lib/python3.11/site-packages (from sympy->torch>=1.11.0->sentence-transformers) (1.3.0)\n",
      "\u001b[33mWARNING: Skipping /Applications/anaconda3/lib/python3.11/site-packages/scipy-1.11.3.dist-info due to invalid metadata entry 'name'\u001b[0m\u001b[33m\n",
      "\u001b[0mNote: you may need to restart the kernel to use updated packages.\n"
     ]
    }
   ],
   "source": [
    "pip install sentence-transformers"
   ]
  },
  {
   "cell_type": "code",
   "execution_count": 3,
   "id": "eec941f6",
   "metadata": {},
   "outputs": [
    {
     "name": "stdout",
     "output_type": "stream",
     "text": [
      "\u001b[33mWARNING: Skipping /Applications/anaconda3/lib/python3.11/site-packages/scipy-1.11.3.dist-info due to invalid metadata entry 'name'\u001b[0m\u001b[33m\n",
      "\u001b[0mRequirement already satisfied: uvicorn in /Applications/anaconda3/lib/python3.11/site-packages (0.23.2)\n",
      "Collecting ctransformers\n",
      "  Obtaining dependency information for ctransformers from https://files.pythonhosted.org/packages/14/50/0b608e2abee4fc695b4e7ff5f569f5d32faf84a49e322034716fa157d1cf/ctransformers-0.2.27-py3-none-any.whl.metadata\n",
      "  Downloading ctransformers-0.2.27-py3-none-any.whl.metadata (17 kB)\n",
      "Collecting python-box\n",
      "  Obtaining dependency information for python-box from https://files.pythonhosted.org/packages/f9/35/66313d7f1b3370c184eafa9f61ba982968e339ba0bda696bf564fbc74b70/python_box-7.2.0-cp311-cp311-macosx_10_9_universal2.whl.metadata\n",
      "  Downloading python_box-7.2.0-cp311-cp311-macosx_10_9_universal2.whl.metadata (7.8 kB)\n",
      "Requirement already satisfied: fastapi in /Applications/anaconda3/lib/python3.11/site-packages (0.110.3)\n",
      "Requirement already satisfied: click>=7.0 in /Applications/anaconda3/lib/python3.11/site-packages (from uvicorn) (8.0.4)\n",
      "Requirement already satisfied: h11>=0.8 in /Applications/anaconda3/lib/python3.11/site-packages (from uvicorn) (0.14.0)\n",
      "Requirement already satisfied: huggingface-hub in /Applications/anaconda3/lib/python3.11/site-packages (from ctransformers) (0.23.3)\n",
      "Collecting py-cpuinfo<10.0.0,>=9.0.0 (from ctransformers)\n",
      "  Obtaining dependency information for py-cpuinfo<10.0.0,>=9.0.0 from https://files.pythonhosted.org/packages/e0/a9/023730ba63db1e494a271cb018dcd361bd2c917ba7004c3e49d5daf795a2/py_cpuinfo-9.0.0-py3-none-any.whl.metadata\n",
      "  Downloading py_cpuinfo-9.0.0-py3-none-any.whl.metadata (794 bytes)\n",
      "Requirement already satisfied: starlette<0.38.0,>=0.37.2 in /Applications/anaconda3/lib/python3.11/site-packages (from fastapi) (0.37.2)\n",
      "Requirement already satisfied: pydantic!=1.8,!=1.8.1,!=2.0.0,!=2.0.1,!=2.1.0,<3.0.0,>=1.7.4 in /Applications/anaconda3/lib/python3.11/site-packages (from fastapi) (1.10.12)\n",
      "Requirement already satisfied: typing-extensions>=4.8.0 in /Applications/anaconda3/lib/python3.11/site-packages (from fastapi) (4.12.2)\n",
      "Requirement already satisfied: anyio<5,>=3.4.0 in /Applications/anaconda3/lib/python3.11/site-packages (from starlette<0.38.0,>=0.37.2->fastapi) (3.5.0)\n",
      "Requirement already satisfied: filelock in /Applications/anaconda3/lib/python3.11/site-packages (from huggingface-hub->ctransformers) (3.9.0)\n",
      "Requirement already satisfied: fsspec>=2023.5.0 in /Applications/anaconda3/lib/python3.11/site-packages (from huggingface-hub->ctransformers) (2024.6.0)\n",
      "Requirement already satisfied: packaging>=20.9 in /Applications/anaconda3/lib/python3.11/site-packages (from huggingface-hub->ctransformers) (23.2)\n",
      "Requirement already satisfied: pyyaml>=5.1 in /Applications/anaconda3/lib/python3.11/site-packages (from huggingface-hub->ctransformers) (6.0)\n",
      "Requirement already satisfied: requests in /Applications/anaconda3/lib/python3.11/site-packages (from huggingface-hub->ctransformers) (2.31.0)\n",
      "Requirement already satisfied: tqdm>=4.42.1 in /Applications/anaconda3/lib/python3.11/site-packages (from huggingface-hub->ctransformers) (4.65.0)\n",
      "Requirement already satisfied: idna>=2.8 in /Applications/anaconda3/lib/python3.11/site-packages (from anyio<5,>=3.4.0->starlette<0.38.0,>=0.37.2->fastapi) (3.4)\n",
      "Requirement already satisfied: sniffio>=1.1 in /Applications/anaconda3/lib/python3.11/site-packages (from anyio<5,>=3.4.0->starlette<0.38.0,>=0.37.2->fastapi) (1.2.0)\n",
      "Requirement already satisfied: charset-normalizer<4,>=2 in /Applications/anaconda3/lib/python3.11/site-packages (from requests->huggingface-hub->ctransformers) (2.0.4)\n",
      "Requirement already satisfied: urllib3<3,>=1.21.1 in /Applications/anaconda3/lib/python3.11/site-packages (from requests->huggingface-hub->ctransformers) (1.26.16)\n",
      "Requirement already satisfied: certifi>=2017.4.17 in /Applications/anaconda3/lib/python3.11/site-packages (from requests->huggingface-hub->ctransformers) (2023.7.22)\n",
      "Downloading ctransformers-0.2.27-py3-none-any.whl (9.9 MB)\n",
      "\u001b[2K   \u001b[90m━━━━━━━━━━━━━━━━━━━━━━━━━━━━━━━━━━━━━━━━\u001b[0m \u001b[32m9.9/9.9 MB\u001b[0m \u001b[31m25.9 MB/s\u001b[0m eta \u001b[36m0:00:00\u001b[0m00:01\u001b[0m00:01\u001b[0m\n",
      "\u001b[?25hDownloading python_box-7.2.0-cp311-cp311-macosx_10_9_universal2.whl (1.8 MB)\n",
      "\u001b[2K   \u001b[90m━━━━━━━━━━━━━━━━━━━━━━━━━━━━━━━━━━━━━━━━\u001b[0m \u001b[32m1.8/1.8 MB\u001b[0m \u001b[31m24.8 MB/s\u001b[0m eta \u001b[36m0:00:00\u001b[0m00:01\u001b[0m\n",
      "\u001b[?25hUsing cached py_cpuinfo-9.0.0-py3-none-any.whl (22 kB)\n",
      "\u001b[33mWARNING: Skipping /Applications/anaconda3/lib/python3.11/site-packages/scipy-1.11.3.dist-info due to invalid metadata entry 'name'\u001b[0m\u001b[33m\n",
      "\u001b[0mInstalling collected packages: py-cpuinfo, python-box, ctransformers\n",
      "  Attempting uninstall: py-cpuinfo\n",
      "    Found existing installation: py-cpuinfo 8.0.0\n",
      "    Uninstalling py-cpuinfo-8.0.0:\n",
      "      Successfully uninstalled py-cpuinfo-8.0.0\n",
      "\u001b[33mWARNING: Skipping /Applications/anaconda3/lib/python3.11/site-packages/scipy-1.11.3.dist-info due to invalid metadata entry 'name'\u001b[0m\u001b[33m\n",
      "\u001b[0m\u001b[33mWARNING: Skipping /Applications/anaconda3/lib/python3.11/site-packages/scipy-1.11.3.dist-info due to invalid metadata entry 'name'\u001b[0m\u001b[33m\n",
      "\u001b[0m\u001b[31mERROR: pip's dependency resolver does not currently take into account all the packages that are installed. This behaviour is the source of the following dependency conflicts.\n",
      "tables 3.8.0 requires blosc2~=2.0.0, which is not installed.\u001b[0m\u001b[31m\n",
      "\u001b[0mSuccessfully installed ctransformers-0.2.27 py-cpuinfo-9.0.0 python-box-7.2.0\n",
      "Note: you may need to restart the kernel to use updated packages.\n"
     ]
    }
   ],
   "source": [
    "pip install uvicorn ctransformers python-box fastapi"
   ]
  },
  {
   "cell_type": "code",
   "execution_count": 4,
   "id": "4dd7e842",
   "metadata": {},
   "outputs": [],
   "source": [
    "import streamlit as st\n",
    "from langchain.prompts import PromptTemplate\n",
    "from langchain.llms import CTransformers\n"
   ]
  },
  {
   "cell_type": "code",
   "execution_count": 5,
   "id": "22a344fd",
   "metadata": {},
   "outputs": [],
   "source": [
    "## function to get response from llama2 model"
   ]
  },
  {
   "cell_type": "code",
   "execution_count": 18,
   "id": "18ebdf10",
   "metadata": {},
   "outputs": [],
   "source": [
    "def  getLLamaresponse(input_text, no_words, blog_style):\n",
    "    \n",
    "    ### Llama2 model\n",
    "    llm = CTransformers(model = 'models/llama-2-7b-chat.ggml',\n",
    "                       model_type = 'llama', \n",
    "                       config={'max_new_tokens':256, \n",
    "                              'temperature':0.01})\n",
    "    \n",
    "    template =\"\"\"\n",
    "          Write a blog for {blog_style} job profile for a topic {input_text}\n",
    "          within {no_words} words.\n",
    "    \n",
    "              \"\"\"\n",
    "    prompt = PromptTemplate(input_variables = [\"blog_style\", \"input_text\", \"no_words\"],\n",
    "                           template= template)\n",
    "    \n",
    "    ## generate the response from llama2 model\n",
    "    \n",
    "    response = llm(prompt.format(blog_style=blog_style, input_text= input_text, no_words = no_words))\n",
    "    print(response)\n",
    "    return response\n",
    "    "
   ]
  },
  {
   "cell_type": "code",
   "execution_count": 16,
   "id": "2f6111ed",
   "metadata": {},
   "outputs": [],
   "source": [
    "st.set_page_config(page_title= \"Generate Blogs\",\n",
    "                  page_icon = 'Robot',\n",
    "                  layout ='centered',\n",
    "                  initial_sidebar_state = 'collapsed')\n",
    "\n",
    "st.header(\"Generate Blogs\")\n",
    "\n",
    "input_text = st.text_input(\"Enter the blog topic\")\n"
   ]
  },
  {
   "cell_type": "code",
   "execution_count": 7,
   "id": "a9f40c7c",
   "metadata": {},
   "outputs": [],
   "source": [
    "## creating two more columns for additional 2 fields"
   ]
  },
  {
   "cell_type": "code",
   "execution_count": 17,
   "id": "af2036ee",
   "metadata": {},
   "outputs": [],
   "source": [
    "col1, col2 = st.columns([5,5])\n",
    "\n",
    "with col1:\n",
    "    no_words = st.text_input('No of words')\n",
    "with col2:\n",
    "    blog_style = st.selectbox(\"Writing the blog for\", ('Researchers', 'Data Scientist', 'Common people'),\n",
    "                             index =0)\n",
    "    \n",
    "submit = st.button(\"Generate\")\n",
    "\n",
    "if submit:\n",
    "    st.write(getLLamaresponse(input_text, no_words, blog_style)) "
   ]
  },
  {
   "cell_type": "code",
   "execution_count": null,
   "id": "740669fd",
   "metadata": {},
   "outputs": [],
   "source": []
  },
  {
   "cell_type": "code",
   "execution_count": 14,
   "id": "20fa07f3",
   "metadata": {},
   "outputs": [
    {
     "name": "stdout",
     "output_type": "stream",
     "text": [
      "\u001b[33mWARNING: Skipping /Applications/anaconda3/lib/python3.11/site-packages/scipy-1.11.3.dist-info due to invalid metadata entry 'name'\u001b[0m\u001b[33m\n",
      "\u001b[0mRequirement already satisfied: ipykernel in /Applications/anaconda3/lib/python3.11/site-packages (6.25.0)\n",
      "Requirement already satisfied: appnope in /Applications/anaconda3/lib/python3.11/site-packages (from ipykernel) (0.1.2)\n",
      "Requirement already satisfied: comm>=0.1.1 in /Applications/anaconda3/lib/python3.11/site-packages (from ipykernel) (0.1.2)\n",
      "Requirement already satisfied: debugpy>=1.6.5 in /Applications/anaconda3/lib/python3.11/site-packages (from ipykernel) (1.6.7)\n",
      "Requirement already satisfied: ipython>=7.23.1 in /Applications/anaconda3/lib/python3.11/site-packages (from ipykernel) (8.15.0)\n",
      "Requirement already satisfied: jupyter-client>=6.1.12 in /Applications/anaconda3/lib/python3.11/site-packages (from ipykernel) (7.4.9)\n",
      "Requirement already satisfied: jupyter-core!=5.0.*,>=4.12 in /Applications/anaconda3/lib/python3.11/site-packages (from ipykernel) (5.3.0)\n",
      "Requirement already satisfied: matplotlib-inline>=0.1 in /Applications/anaconda3/lib/python3.11/site-packages (from ipykernel) (0.1.6)\n",
      "Requirement already satisfied: nest-asyncio in /Applications/anaconda3/lib/python3.11/site-packages (from ipykernel) (1.5.6)\n",
      "Requirement already satisfied: packaging in /Applications/anaconda3/lib/python3.11/site-packages (from ipykernel) (23.2)\n",
      "Requirement already satisfied: psutil in /Applications/anaconda3/lib/python3.11/site-packages (from ipykernel) (5.9.0)\n",
      "Requirement already satisfied: pyzmq>=20 in /Applications/anaconda3/lib/python3.11/site-packages (from ipykernel) (23.2.0)\n",
      "Requirement already satisfied: tornado>=6.1 in /Applications/anaconda3/lib/python3.11/site-packages (from ipykernel) (6.3.3)\n",
      "Requirement already satisfied: traitlets>=5.4.0 in /Applications/anaconda3/lib/python3.11/site-packages (from ipykernel) (5.7.1)\n",
      "Requirement already satisfied: backcall in /Applications/anaconda3/lib/python3.11/site-packages (from ipython>=7.23.1->ipykernel) (0.2.0)\n",
      "Requirement already satisfied: decorator in /Applications/anaconda3/lib/python3.11/site-packages (from ipython>=7.23.1->ipykernel) (5.1.1)\n",
      "Requirement already satisfied: jedi>=0.16 in /Applications/anaconda3/lib/python3.11/site-packages (from ipython>=7.23.1->ipykernel) (0.18.1)\n",
      "Requirement already satisfied: pickleshare in /Applications/anaconda3/lib/python3.11/site-packages (from ipython>=7.23.1->ipykernel) (0.7.5)\n",
      "Requirement already satisfied: prompt-toolkit!=3.0.37,<3.1.0,>=3.0.30 in /Applications/anaconda3/lib/python3.11/site-packages (from ipython>=7.23.1->ipykernel) (3.0.36)\n",
      "Requirement already satisfied: pygments>=2.4.0 in /Applications/anaconda3/lib/python3.11/site-packages (from ipython>=7.23.1->ipykernel) (2.15.1)\n",
      "Requirement already satisfied: stack-data in /Applications/anaconda3/lib/python3.11/site-packages (from ipython>=7.23.1->ipykernel) (0.2.0)\n",
      "Requirement already satisfied: pexpect>4.3 in /Applications/anaconda3/lib/python3.11/site-packages (from ipython>=7.23.1->ipykernel) (4.8.0)\n",
      "Requirement already satisfied: entrypoints in /Applications/anaconda3/lib/python3.11/site-packages (from jupyter-client>=6.1.12->ipykernel) (0.4)\n",
      "Requirement already satisfied: python-dateutil>=2.8.2 in /Applications/anaconda3/lib/python3.11/site-packages (from jupyter-client>=6.1.12->ipykernel) (2.8.2)\n",
      "Requirement already satisfied: platformdirs>=2.5 in /Applications/anaconda3/lib/python3.11/site-packages (from jupyter-core!=5.0.*,>=4.12->ipykernel) (3.10.0)\n",
      "Requirement already satisfied: parso<0.9.0,>=0.8.0 in /Applications/anaconda3/lib/python3.11/site-packages (from jedi>=0.16->ipython>=7.23.1->ipykernel) (0.8.3)\n",
      "Requirement already satisfied: ptyprocess>=0.5 in /Applications/anaconda3/lib/python3.11/site-packages (from pexpect>4.3->ipython>=7.23.1->ipykernel) (0.7.0)\n",
      "Requirement already satisfied: wcwidth in /Applications/anaconda3/lib/python3.11/site-packages (from prompt-toolkit!=3.0.37,<3.1.0,>=3.0.30->ipython>=7.23.1->ipykernel) (0.2.5)\n",
      "Requirement already satisfied: six>=1.5 in /Applications/anaconda3/lib/python3.11/site-packages (from python-dateutil>=2.8.2->jupyter-client>=6.1.12->ipykernel) (1.16.0)\n",
      "Requirement already satisfied: executing in /Applications/anaconda3/lib/python3.11/site-packages (from stack-data->ipython>=7.23.1->ipykernel) (0.8.3)\n",
      "Requirement already satisfied: asttokens in /Applications/anaconda3/lib/python3.11/site-packages (from stack-data->ipython>=7.23.1->ipykernel) (2.0.5)\n",
      "Requirement already satisfied: pure-eval in /Applications/anaconda3/lib/python3.11/site-packages (from stack-data->ipython>=7.23.1->ipykernel) (0.2.2)\n",
      "\u001b[33mWARNING: Skipping /Applications/anaconda3/lib/python3.11/site-packages/scipy-1.11.3.dist-info due to invalid metadata entry 'name'\u001b[0m\u001b[33m\n",
      "\u001b[0mNote: you may need to restart the kernel to use updated packages.\n"
     ]
    }
   ],
   "source": [
    "pip install ipykernel"
   ]
  },
  {
   "cell_type": "code",
   "execution_count": null,
   "id": "8c21452a",
   "metadata": {},
   "outputs": [],
   "source": []
  },
  {
   "cell_type": "code",
   "execution_count": null,
   "id": "208c314d",
   "metadata": {},
   "outputs": [],
   "source": []
  },
  {
   "cell_type": "code",
   "execution_count": null,
   "id": "bab19c35",
   "metadata": {},
   "outputs": [],
   "source": []
  }
 ],
 "metadata": {
  "kernelspec": {
   "display_name": "Python 3 (ipykernel)",
   "language": "python",
   "name": "python3"
  },
  "language_info": {
   "codemirror_mode": {
    "name": "ipython",
    "version": 3
   },
   "file_extension": ".py",
   "mimetype": "text/x-python",
   "name": "python",
   "nbconvert_exporter": "python",
   "pygments_lexer": "ipython3",
   "version": "3.11.5"
  }
 },
 "nbformat": 4,
 "nbformat_minor": 5
}
